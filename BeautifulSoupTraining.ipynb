{
 "cells": [
  {
   "cell_type": "code",
   "execution_count": 2,
   "id": "08e65235",
   "metadata": {},
   "outputs": [],
   "source": [
    "from bs4 import BeautifulSoup\n",
    "import requests\n",
    "import re\n",
    "\n",
    "#connecting site\n",
    "\n",
    "link = \"https://coinmarketcap.com/\"\n",
    "requisicao = requests.get(link)\n",
    "site = BeautifulSoup(requisicao.text,\"html.parser\")\n"
   ]
  },
  {
   "cell_type": "code",
   "execution_count": 37,
   "id": "f0e1aa86",
   "metadata": {},
   "outputs": [
    {
     "name": "stdout",
     "output_type": "stream",
     "text": [
      "{'Bitcoin': {'name': 'Bitcoin', 'code': 'BTC', 'price': '$41,574.85', 'market_cap': '$813,180,904,541', 'volume': '$32,663,834,350', 'var_1h': '-0.27%', 'var_24h': '-5.08%', 'var_7d': '6.08%'}, 'Ethereum': {'name': 'Ethereum', 'code': 'ETH', 'price': '$2,204.55', 'market_cap': '$265,169,319,689', 'volume': '$15,399,627,663', 'var_1h': '-0.20%', 'var_24h': '-6.01%', 'var_7d': '6.08%'}, 'Tether USDt': {'name': 'Tether USDt', 'code': 'USDT', 'price': '$0.9996', 'market_cap': '$90,510,163,168', 'volume': '$64,173,417,818', 'var_1h': '0.00%', 'var_24h': '-0.05%', 'var_7d': '6.08%'}, 'BNB': {'name': 'BNB', 'code': 'BNB', 'price': '$244.54', 'market_cap': '$37,165,120,840', 'volume': '$1,293,633,226', 'var_1h': '-0.58%', 'var_24h': '2.20%', 'var_7d': '6.08%'}, 'XRP': {'name': 'XRP', 'code': 'XRP', 'price': '$0.6193', 'market_cap': '$33,416,740,101', 'volume': '$2,007,497,443', 'var_1h': '0.16%', 'var_24h': '-5.84%', 'var_7d': '6.08%'}, 'Solana': {'name': 'Solana', 'code': 'SOL', 'price': '$70.23', 'market_cap': '$29,936,988,048', 'volume': '$3,313,806,022', 'var_1h': '0.79%', 'var_24h': '-3.37%', 'var_7d': '6.08%'}, 'USDC': {'name': 'USDC', 'code': 'USDC', 'price': '$1.00', 'market_cap': '$24,336,928,500', 'volume': '$7,406,397,662', 'var_1h': '0.00%', 'var_24h': '0.00%', 'var_7d': '6.08%'}, 'Cardano': {'name': 'Cardano', 'code': 'ADA', 'price': '$0.5428', 'market_cap': '$19,176,318,449', 'volume': '$1,270,962,346', 'var_1h': '-1.29%', 'var_24h': '-8.13%', 'var_7d': '6.08%'}, 'Avalanche': {'name': 'Avalanche', 'code': 'AVAX', 'price': '$37.18', 'market_cap': '$13,597,371,710', 'volume': '$3,133,739,861', 'var_1h': '3.77%', 'var_24h': '11.70%', 'var_7d': '6.08%'}, 'Dogecoin': {'name': 'Dogecoin', 'code': 'DOGE', 'price': '$0.094', 'market_cap': '$13,365,617,738', 'volume': '$1,829,747,287', 'var_1h': '-0.73%', 'var_24h': '-6.40%', 'var_7d': '6.08%'}}\n"
     ]
    }
   ],
   "source": [
    "tbody = site.find(\"tbody\")\n",
    "linhas = tbody.find_all(\"tr\")\n",
    "moedas = {}\n",
    "for linha in linhas:\n",
    "    try:\n",
    "        name = linha.find(class_=\"sc-4984dd93-0 kKpPOn\").text\n",
    "        code = linha.find(class_=\"sc-4984dd93-0 iqdbQL coin-item-symbol\").text\n",
    "        values = linha.find_all(string=re.compile(\"\\$\"))\n",
    "        price = values[0]\n",
    "        percentuais = linha.find_all(string=re.compile(\"%\"))\n",
    "             \n",
    "        for i,percentual in enumerate(percentuais):\n",
    "            if \"gUnzUB\" in percentual.parent[\"class\"]:\n",
    "                percentuais[i] = \"-\" + str(percentual) \n",
    "            \n",
    "        var_1h = percentuais[0]\n",
    "        var_24h = percentuais[1]\n",
    "        var_7d = percent[2]    \n",
    "        market_cap = values[2]\n",
    "        volume = values[3]\n",
    "        dic = {\"name\": name, \"code\":code, \"price\":price,\"market_cap\":market_cap,\"volume\":volume, \"var_1h\": var_1h, \"var_24h\": var_24h, \"var_7d\": var_7d}\n",
    "        moedas[name] = dic\n",
    "    except AttributeError:\n",
    "        break\n",
    "print(moedas)"
   ]
  },
  {
   "cell_type": "code",
   "execution_count": null,
   "id": "58b1b6a9",
   "metadata": {},
   "outputs": [],
   "source": []
  }
 ],
 "metadata": {
  "kernelspec": {
   "display_name": "Python 3 (ipykernel)",
   "language": "python",
   "name": "python3"
  },
  "language_info": {
   "codemirror_mode": {
    "name": "ipython",
    "version": 3
   },
   "file_extension": ".py",
   "mimetype": "text/x-python",
   "name": "python",
   "nbconvert_exporter": "python",
   "pygments_lexer": "ipython3",
   "version": "3.9.18"
  }
 },
 "nbformat": 4,
 "nbformat_minor": 5
}
